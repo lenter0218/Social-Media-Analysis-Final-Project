{
 "cells": [
  {
   "cell_type": "markdown",
   "metadata": {},
   "source": [
    "##  1. box plot of the number of posts and comments for each fan page"
   ]
  },
  {
   "cell_type": "code",
   "execution_count": 2,
   "metadata": {
    "collapsed": false
   },
   "outputs": [],
   "source": [
    "import pyes\n",
    "\n",
    "host = '114.32.24.166:9200'\n",
    "\n",
    "def postcount(fid):\n",
    "    conn = pyes.es.ES(host)\n",
    "    tq = pyes.query.TermQuery(field=\"fid\", value=fid)\n",
    "    res1 = conn.search(query=tq , indices='facebook_nested' , doc_types='post')\n",
    "    return len(res1)\n",
    "\n",
    "def commentcount(fid):\n",
    "    conn = pyes.es.ES(host)\n",
    "    tq = pyes.query.TermQuery(field=\"fid\", value=fid)\n",
    "    res2 = conn.search(query=tq , indices='facebook_nested' , doc_types='comment')\n",
    "    return len(res2)\n",
    "\n",
    "fid1 = 101615286547831\n",
    "fid2 = 324273577645211"
   ]
  },
  {
   "cell_type": "code",
   "execution_count": 3,
   "metadata": {
    "collapsed": false
   },
   "outputs": [
    {
     "name": "stdout",
     "output_type": "stream",
     "text": [
      "694.0 1147.0 200237.0 57190.0    McDonald       KFC\n",
      "0  0.376969  0.623031\n",
      "1  0.777840  0.222160\n"
     ]
    }
   ],
   "source": [
    "import pandas as pd\n",
    "\n",
    "a = float(postcount(fid1))\n",
    "b = float(postcount(fid2))\n",
    "c = float(commentcount(fid1))\n",
    "d = float(commentcount(fid2))\n",
    "\n",
    "post_total = a+b\n",
    "comment_total = c+d\n",
    "\n",
    "df = pd.DataFrame([[a/post_total, b/post_total], [c/comment_total, d/comment_total]], columns=['McDonald', 'KFC'] )\n",
    "\n",
    "print a, b, c, d, df"
   ]
  },
  {
   "cell_type": "code",
   "execution_count": 111,
   "metadata": {
    "collapsed": false
   },
   "outputs": [
    {
     "name": "stdout",
     "output_type": "stream",
     "text": [
      "   McDonald       KFC     index\n",
      "0  0.376969  0.623031      post\n",
      "1  0.410740  0.589260  comments\n"
     ]
    }
   ],
   "source": [
    "df['index'] = list(['post','comments'])\n",
    "\n",
    "print df"
   ]
  },
  {
   "cell_type": "code",
   "execution_count": 116,
   "metadata": {
    "collapsed": false
   },
   "outputs": [
    {
     "data": {
      "text/plain": [
       "array([<matplotlib.axes._subplots.AxesSubplot object at 0x000000000E6E71D0>,\n",
       "       <matplotlib.axes._subplots.AxesSubplot object at 0x000000000E8F30F0>], dtype=object)"
      ]
     },
     "execution_count": 116,
     "metadata": {},
     "output_type": "execute_result"
    },
    {
     "data": {
      "image/png": "[encoded data removed]",
      "text/plain": [
       "<matplotlib.figure.Figure at 0xe6dc2e8>"
      ]
     },
     "metadata": {},
     "output_type": "display_data"
    }
   ],
   "source": [
    "pd.options.display.mpl_style = 'default'\n",
    "df.boxplot(by = 'index')"
   ]
  },
  {
   "cell_type": "markdown",
   "metadata": {},
   "source": [
    "## 2. 個別的 (#) of post,  (# /  ratio) of post with sharing,  (# / ratio) of post with friend tagging "
   ]
  },
  {
   "cell_type": "code",
   "execution_count": null,
   "metadata": {
    "collapsed": true
   },
   "outputs": [],
   "source": [
    "import pyes\n",
    "import pandas as pd\n",
    "\n",
    "host = '114.32.24.166:9200'\n",
    "\n",
    "def postagg(fid):\n",
    "    conn = pyes.es.ES(host)\n",
    "    tq = pyes.query.TermQuery(field=\"fid\", value=fid)\n",
    "    res = conn.search(query=tq , indices='facebook_nested' , doc_types='post') \n",
    "    \n",
    "    num_post = len(res)\n",
    "    post_with_sharing = 0\n",
    "    post_with_friend = 0\n",
    "    \n",
    "    for data in res:\n",
    "        try:\n",
    "            if data['shares']:\n",
    "                post_with_sharing += 1\n",
    "            if data['']:\n",
    "                post_with_friend += 1\n",
    "                \n",
    "        except KeyError:\n",
    "            continue\n",
    "    \n",
    "    df = pd.DataFrame({'Number of total post': [num_post], 'Number of post with sharing': [post_with_sharing], 'Ratio of post with sharing': [post_with_sharing/num_post], 'Number of post with friend tagging': [post_with_friend], 'Ratio of post with friend tagging': [post_with_friend/num_post]})\n",
    "    return df"
   ]
  },
  {
   "cell_type": "code",
   "execution_count": null,
   "metadata": {
    "collapsed": true
   },
   "outputs": [],
   "source": [
    "fid1 = 101615286547831\n",
    "fid2 = 324273577645211\n",
    "\n",
    "a = postagg(fid1)\n",
    "b = postagg(fid2)\n",
    "\n",
    "print a, b"
   ]
  },
  {
   "cell_type": "markdown",
   "metadata": {
    "collapsed": true
   },
   "source": [
    "## 3. 各個粉絲頁每月po文的comment變化(max, min, mean)"
   ]
  },
  {
   "cell_type": "code",
   "execution_count": null,
   "metadata": {
    "collapsed": true
   },
   "outputs": [],
   "source": [
    "# Define functions to search the data in comment and post\n",
    "import pyes\n",
    "import pandas as pd\n",
    "\n",
    "host = '114.32.24.166:9200'\n",
    "\n",
    "def post_search(fid):\n",
    "    conn = pyes.es.ES(host)\n",
    "    tq = pyes.query.TermQuery(field=\"fid\", value=fid)\n",
    "    res1 = conn.search(query=tq , indices='facebook_nested' , doc_types='post')\n",
    "\n",
    "    message = []\n",
    "    month = []\n",
    "    num_comment = []\n",
    "    num_share = []\n",
    "    \n",
    "    for data in res1:\n",
    "        try:\n",
    "            month.append(data[''])\n",
    "            if data['message']:\n",
    "                message.append(data['message'])\n",
    "            elif data['description']:\n",
    "                message.append(data['description'])\n",
    "            if data['comment_count']:\n",
    "                num_comment.append(data['comment_count'])\n",
    "            if data['shares']:\n",
    "                num_share.append(data['shares'])\n",
    "                \n",
    "        except KeyError:\n",
    "            continue\n",
    "            \n",
    "    df = pd.DataFrame({'month': [month], 'message': [message], 'number of comment': [num_comment], 'number of shares': [num_share]})\n",
    "    return df\n",
    "    \n",
    "def comment_search(fid):\n",
    "    conn = pyes.es.ES(host)\n",
    "    tq = pyes.query.TermQuery(field=\"fid\", value=fid)\n",
    "    res2 = conn.search(query=tq , indices='facebook_nested' , doc_types='comment')\n",
    "    \n",
    "    comment = []\n",
    "    friend_tag = []\n",
    "    \n",
    "    for data in res2:\n",
    "        try:\n",
    "            if data['message']:\n",
    "                comment.append(data['message'])\n",
    "            if \n",
    "                friend_tag\n",
    "        except KeyError:\n",
    "            continue\n",
    "    \n",
    "    df = pd.DataFrame({'comments': [comment]})\n",
    "    return df\n",
    "\n",
    "fid1 = 101615286547831\n",
    "fid2 = 324273577645211"
   ]
  },
  {
   "cell_type": "code",
   "execution_count": null,
   "metadata": {
    "collapsed": true
   },
   "outputs": [],
   "source": [
    "re1 = post_search(fid1)\n",
    "re2 = post_search(fid2)\n",
    "\n",
    "print re1['message'][0]"
   ]
  },
  {
   "cell_type": "code",
   "execution_count": null,
   "metadata": {
    "collapsed": true
   },
   "outputs": [],
   "source": [
    "df = re1[['month', 'number of comment']\n",
    "\n",
    "result = []\n",
    "\n",
    "for i in (1, 13):\n",
    "    df = df[df['month'] == i]\n",
    "    biggest = df['number of comment'].max()\n",
    "    smallest = df['number of comment'].min()\n",
    "    mean = df['number of comment'].mean()\n",
    "    result.append({'max': biggest, 'min': smallest, 'mean': mean})\n",
    "\n",
    "dataf = pd.DataFrame(result)"
   ]
  },
  {
   "cell_type": "markdown",
   "metadata": {},
   "source": [
    "## Analysis  2"
   ]
  },
  {
   "cell_type": "code",
   "execution_count": null,
   "metadata": {
    "collapsed": true
   },
   "outputs": [],
   "source": [
    "MC_data = comment_search(fid1)"
   ]
  },
  {
   "cell_type": "code",
   "execution_count": null,
   "metadata": {
    "collapsed": true
   },
   "outputs": [],
   "source": []
  },
  {
   "cell_type": "markdown",
   "metadata": {},
   "source": [
    "## Analysis 3"
   ]
  },
  {
   "cell_type": "code",
   "execution_count": null,
   "metadata": {
    "collapsed": true
   },
   "outputs": [],
   "source": [
    "df1 = post_search(fid1)\n",
    "df2 = post_search(fid2)"
   ]
  },
  {
   "cell_type": "code",
   "execution_count": null,
   "metadata": {
    "collapsed": true
   },
   "outputs": [],
   "source": [
    "import jieba\n",
    "\n",
    "df1 = df1['message']\n",
    "df2 = df2['message']"
   ]
  },
  {
   "cell_type": "markdown",
   "metadata": {},
   "source": [
    "## Analysis 4"
   ]
  },
  {
   "cell_type": "code",
   "execution_count": null,
   "metadata": {
    "collapsed": true
   },
   "outputs": [],
   "source": []
  }
 ],
 "metadata": {
  "anaconda-cloud": {},
  "kernelspec": {
   "display_name": "Python [conda root]",
   "language": "python",
   "name": "conda-root-py"
  },
  "language_info": {
   "codemirror_mode": {
    "name": "ipython",
    "version": 2
   },
   "file_extension": ".py",
   "mimetype": "text/x-python",
   "name": "python",
   "nbconvert_exporter": "python",
   "pygments_lexer": "ipython2",
   "version": "2.7.12"
  }
 },
 "nbformat": 4,
 "nbformat_minor": 1
}
